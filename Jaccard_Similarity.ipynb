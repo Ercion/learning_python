{
  "cells": [
    {
      "metadata": {
        "_uuid": "12ae6fa6e2f07b946b223c97e19c2d306e512cbc"
      },
      "cell_type": "markdown",
      "source": "**<font size=\"5\" color=\"RED\">Jaccard Similarity:</font>**\n\nJaccard similarity or intersection over union is defined as size of intersection divided by size of union of two sets."
    },
    {
      "metadata": {
        "_uuid": "8f2839f25d086af736a60e9eeb907d3b93b6e0e5",
        "_cell_guid": "b1076dfc-b9ad-4769-8c92-a6c4dae69d19",
        "trusted": true
      },
      "cell_type": "code",
      "source": "# This Python 3 environment comes with many helpful analytics libraries installed\n# It is defined by the kaggle/python docker image: https://github.com/kaggle/docker-python\n# For example, here's several helpful packages to load in \n\nimport numpy as np # linear algebra\nimport pandas as pd # data processing, CSV file I/O (e.g. pd.read_csv)\n\n# Input data files are available in the \"../input/\" directory.\n# For example, running this (by clicking run or pressing Shift+Enter) will list the files in the input directory\n\nimport os\nprint(os.listdir(\"../input\"))\n\n# Any results you write to the current directory are saved as output.",
      "execution_count": null,
      "outputs": []
    },
    {
      "metadata": {
        "_uuid": "74f86bbe638d48d7708f0b574fc77c3fb98f946b"
      },
      "cell_type": "markdown",
      "source": "**<font size=\"6\">READIND DATA</font>**"
    },
    {
      "metadata": {
        "_cell_guid": "79c7e3d0-c299-4dcb-8224-4455121ee9b0",
        "_uuid": "d629ff2d2480ee46fbb7e2d37f6b5fab8052498a",
        "trusted": true
      },
      "cell_type": "code",
      "source": "my_data= pd.read_csv('../input/data.csv')\nmy_data.info()\nmy_data.head()",
      "execution_count": null,
      "outputs": []
    },
    {
      "metadata": {
        "trusted": true,
        "_uuid": "db0a25766ee672e288bf3a2243ca0f0a16359dfb"
      },
      "cell_type": "markdown",
      "source": "**<font size=\"6\">REPLACE SPACE WITH '_' </font>**"
    },
    {
      "metadata": {
        "trusted": true,
        "_uuid": "9045737a3e679e756c8b70ebab13ff1c40cf4abb"
      },
      "cell_type": "code",
      "source": "my_data.columns=my_data.columns.str.lower().str.replace(' ','_')",
      "execution_count": null,
      "outputs": []
    },
    {
      "metadata": {
        "trusted": true,
        "_uuid": "792f802932ff67ea95188f3bf4e8792fe459c6ac"
      },
      "cell_type": "code",
      "source": "my_data.head()",
      "execution_count": null,
      "outputs": []
    },
    {
      "metadata": {
        "_uuid": "005ce537e6bfde6fc381e6248886184c87c06367"
      },
      "cell_type": "markdown",
      "source": " **<font size=\"6\">Control channel_name Uniqueness</font>**"
    },
    {
      "metadata": {
        "trusted": true,
        "scrolled": false,
        "_uuid": "68b69b2be7558d83f4787141f3b30443345abda2"
      },
      "cell_type": "code",
      "source": "my_data.channel_name.value_counts()",
      "execution_count": null,
      "outputs": []
    },
    {
      "metadata": {
        "_uuid": "a8f57d186198e18b4a0cdbb4a7dc099136795620"
      },
      "cell_type": "markdown",
      "source": "** <font size=\"6\">Get Input</font>**"
    },
    {
      "metadata": {
        "trusted": true,
        "_uuid": "4f885a6b8eb89559761a4a38f6df266b78ac07cb"
      },
      "cell_type": "code",
      "source": "yourChannel=input(\"which channel are you looking for?\\n\")",
      "execution_count": null,
      "outputs": []
    },
    {
      "metadata": {
        "_uuid": "7b992b0960b3067eef00c0103f9cd42b915a9750"
      },
      "cell_type": "markdown",
      "source": "> ## iterrows() returns the iterator yielding each index value along with a series containing the data in each row."
    },
    {
      "metadata": {
        "_uuid": "821e9776ddc84a4caa3c7f3dc975ee3cd9289506"
      },
      "cell_type": "markdown",
      "source": " ** <font size=\"6\">Create Class and Function</font>**"
    },
    {
      "metadata": {
        "trusted": true,
        "_uuid": "fd8198fea40f96557a71179dab1f57cd1d93bd4a"
      },
      "cell_type": "code",
      "source": "uniDict= my_data.channel_name.unique()\nuniDict=pd.DataFrame(uniDict)\nuniDict.rename(columns={0: 'channel_name'}, inplace=True)\nuniDict[\"jaccardValue\"]=0\n\nclass advisor:\n    \"give advice and jaccard similarity score accrording to your input\"\n    def __init__(self,channel):  \n        \"attributes\"\n        #\"__init__\" is a reserved method in python classes. It is known as a constructor in OOP concepts. \n        #This method called when an object is created from the class and it allows the class to initialize the attributes of a class.\n        \n        self.channel=channel\n        \n    \n    def get_jaccard_sim(self):\n        \"this func use your input and calculate jaccard similarity score\"\n        a = set(self.channel.lower())\n        \n        for row_index,value in uniDict.iterrows():\n            b = set(value[0].lower())\n            c = a.intersection(b)\n            uniDict.loc[row_index,'jaccardValue'] = (len(c)) / (len(a) + len(b) - len(c))\n        \n        maxJaccard = uniDict['jaccardValue'].max()\n        katVar=uniDict.loc[uniDict['jaccardValue']== maxJaccard,[\"channel_name\"]]\n        channel= list(katVar['channel_name'].str.lower())            \n        filChan = my_data[(my_data['channel_name'].str.lower() ==channel[0] )]\n    \n        if  filChan.empty  :\n            print('Lütfen verilen kategori doğru giriniz!\\n')\n        else:\n            print(\"Jaccard_Score:\",maxJaccard,'\\nChoosen Channel:\\n',filChan.channel_name ,\"\\nDetail:\\n\",filChan)\n          \n\n        ",
      "execution_count": null,
      "outputs": []
    },
    {
      "metadata": {
        "_uuid": "cd1292e4b35ef1fc949bb5b0a222478ae9b66dec"
      },
      "cell_type": "markdown",
      "source": "   ** <font size=\"6\">Create Object & Send Your Input to Class ;) </font>**"
    },
    {
      "metadata": {
        "trusted": true,
        "_uuid": "8351bf94994345c615226d27cbcb2928a1a15fb7",
        "scrolled": false
      },
      "cell_type": "code",
      "source": "my_class=advisor(yourChannel)\nmy_class.get_jaccard_sim()",
      "execution_count": null,
      "outputs": []
    },
    {
      "metadata": {
        "trusted": true,
        "_uuid": "4768a51ddb3f014c750051a3df8194cd389ceeb8"
      },
      "cell_type": "code",
      "source": "",
      "execution_count": null,
      "outputs": []
    }
  ],
  "metadata": {
    "kernelspec": {
      "display_name": "Python 3",
      "language": "python",
      "name": "python3"
    },
    "language_info": {
      "name": "python",
      "version": "3.6.6",
      "mimetype": "text/x-python",
      "codemirror_mode": {
        "name": "ipython",
        "version": 3
      },
      "pygments_lexer": "ipython3",
      "nbconvert_exporter": "python",
      "file_extension": ".py"
    }
  },
  "nbformat": 4,
  "nbformat_minor": 1
}